{
 "cells": [
  {
   "cell_type": "markdown",
   "id": "77f8966c",
   "metadata": {},
   "source": [
    " 数据挖掘互评作业三：分类、预测与聚类\n",
    " \n",
    " 姓名：黄贵宸\n",
    " \n",
    " 学号：3220200892"
   ]
  },
  {
   "cell_type": "markdown",
   "id": "f0b2c89f",
   "metadata": {},
   "source": [
    "# 实验方法与结果\n",
    "\n",
    "  *  数据说明：选取的数据集为 \n",
    "    [Video Game Sales](https://www.kaggle.com/gregorut/videogamesales)\n",
    "  * 前期的数据读入及数据的基础分析："
   ]
  },
  {
   "cell_type": "code",
   "execution_count": 1,
   "id": "37b4ef03",
   "metadata": {},
   "outputs": [
    {
     "name": "stdout",
     "output_type": "stream",
     "text": [
      "(16598, 11)\n"
     ]
    },
    {
     "data": {
      "text/html": [
       "<div>\n",
       "<style scoped>\n",
       "    .dataframe tbody tr th:only-of-type {\n",
       "        vertical-align: middle;\n",
       "    }\n",
       "\n",
       "    .dataframe tbody tr th {\n",
       "        vertical-align: top;\n",
       "    }\n",
       "\n",
       "    .dataframe thead th {\n",
       "        text-align: right;\n",
       "    }\n",
       "</style>\n",
       "<table border=\"1\" class=\"dataframe\">\n",
       "  <thead>\n",
       "    <tr style=\"text-align: right;\">\n",
       "      <th></th>\n",
       "      <th>Rank</th>\n",
       "      <th>Name</th>\n",
       "      <th>Platform</th>\n",
       "      <th>Year</th>\n",
       "      <th>Genre</th>\n",
       "      <th>Publisher</th>\n",
       "      <th>NA_Sales</th>\n",
       "      <th>EU_Sales</th>\n",
       "      <th>JP_Sales</th>\n",
       "      <th>Other_Sales</th>\n",
       "      <th>Global_Sales</th>\n",
       "    </tr>\n",
       "  </thead>\n",
       "  <tbody>\n",
       "    <tr>\n",
       "      <th>0</th>\n",
       "      <td>1</td>\n",
       "      <td>Wii Sports</td>\n",
       "      <td>Wii</td>\n",
       "      <td>2006.0</td>\n",
       "      <td>Sports</td>\n",
       "      <td>Nintendo</td>\n",
       "      <td>41.49</td>\n",
       "      <td>29.02</td>\n",
       "      <td>3.77</td>\n",
       "      <td>8.46</td>\n",
       "      <td>82.74</td>\n",
       "    </tr>\n",
       "    <tr>\n",
       "      <th>1</th>\n",
       "      <td>2</td>\n",
       "      <td>Super Mario Bros.</td>\n",
       "      <td>NES</td>\n",
       "      <td>1985.0</td>\n",
       "      <td>Platform</td>\n",
       "      <td>Nintendo</td>\n",
       "      <td>29.08</td>\n",
       "      <td>3.58</td>\n",
       "      <td>6.81</td>\n",
       "      <td>0.77</td>\n",
       "      <td>40.24</td>\n",
       "    </tr>\n",
       "    <tr>\n",
       "      <th>2</th>\n",
       "      <td>3</td>\n",
       "      <td>Mario Kart Wii</td>\n",
       "      <td>Wii</td>\n",
       "      <td>2008.0</td>\n",
       "      <td>Racing</td>\n",
       "      <td>Nintendo</td>\n",
       "      <td>15.85</td>\n",
       "      <td>12.88</td>\n",
       "      <td>3.79</td>\n",
       "      <td>3.31</td>\n",
       "      <td>35.82</td>\n",
       "    </tr>\n",
       "    <tr>\n",
       "      <th>3</th>\n",
       "      <td>4</td>\n",
       "      <td>Wii Sports Resort</td>\n",
       "      <td>Wii</td>\n",
       "      <td>2009.0</td>\n",
       "      <td>Sports</td>\n",
       "      <td>Nintendo</td>\n",
       "      <td>15.75</td>\n",
       "      <td>11.01</td>\n",
       "      <td>3.28</td>\n",
       "      <td>2.96</td>\n",
       "      <td>33.00</td>\n",
       "    </tr>\n",
       "    <tr>\n",
       "      <th>4</th>\n",
       "      <td>5</td>\n",
       "      <td>Pokemon Red/Pokemon Blue</td>\n",
       "      <td>GB</td>\n",
       "      <td>1996.0</td>\n",
       "      <td>Role-Playing</td>\n",
       "      <td>Nintendo</td>\n",
       "      <td>11.27</td>\n",
       "      <td>8.89</td>\n",
       "      <td>10.22</td>\n",
       "      <td>1.00</td>\n",
       "      <td>31.37</td>\n",
       "    </tr>\n",
       "  </tbody>\n",
       "</table>\n",
       "</div>"
      ],
      "text/plain": [
       "   Rank                      Name Platform    Year         Genre Publisher  \\\n",
       "0     1                Wii Sports      Wii  2006.0        Sports  Nintendo   \n",
       "1     2         Super Mario Bros.      NES  1985.0      Platform  Nintendo   \n",
       "2     3            Mario Kart Wii      Wii  2008.0        Racing  Nintendo   \n",
       "3     4         Wii Sports Resort      Wii  2009.0        Sports  Nintendo   \n",
       "4     5  Pokemon Red/Pokemon Blue       GB  1996.0  Role-Playing  Nintendo   \n",
       "\n",
       "   NA_Sales  EU_Sales  JP_Sales  Other_Sales  Global_Sales  \n",
       "0     41.49     29.02      3.77         8.46         82.74  \n",
       "1     29.08      3.58      6.81         0.77         40.24  \n",
       "2     15.85     12.88      3.79         3.31         35.82  \n",
       "3     15.75     11.01      3.28         2.96         33.00  \n",
       "4     11.27      8.89     10.22         1.00         31.37  "
      ]
     },
     "execution_count": 1,
     "metadata": {},
     "output_type": "execute_result"
    }
   ],
   "source": [
    "import pandas as pd\n",
    "import numpy as np\n",
    "\n",
    "data_path = 'E:/桌面/dataMining/third/vgsales.csv'\n",
    "data = pd.read_csv(data_path)\n",
    "print(data.shape)\n",
    "data.head()"
   ]
  },
  {
   "cell_type": "code",
   "execution_count": 2,
   "id": "0df60cab",
   "metadata": {},
   "outputs": [
    {
     "name": "stdout",
     "output_type": "stream",
     "text": [
      "<class 'pandas.core.frame.DataFrame'>\n",
      "RangeIndex: 16598 entries, 0 to 16597\n",
      "Data columns (total 11 columns):\n",
      " #   Column        Non-Null Count  Dtype  \n",
      "---  ------        --------------  -----  \n",
      " 0   Rank          16598 non-null  int64  \n",
      " 1   Name          16598 non-null  object \n",
      " 2   Platform      16598 non-null  object \n",
      " 3   Year          16327 non-null  float64\n",
      " 4   Genre         16598 non-null  object \n",
      " 5   Publisher     16540 non-null  object \n",
      " 6   NA_Sales      16598 non-null  float64\n",
      " 7   EU_Sales      16598 non-null  float64\n",
      " 8   JP_Sales      16598 non-null  float64\n",
      " 9   Other_Sales   16598 non-null  float64\n",
      " 10  Global_Sales  16598 non-null  float64\n",
      "dtypes: float64(6), int64(1), object(4)\n",
      "memory usage: 1.4+ MB\n"
     ]
    }
   ],
   "source": [
    "data.info()"
   ]
  },
  {
   "cell_type": "code",
   "execution_count": 3,
   "id": "4d8fce87",
   "metadata": {},
   "outputs": [
    {
     "data": {
      "text/html": [
       "<div>\n",
       "<style scoped>\n",
       "    .dataframe tbody tr th:only-of-type {\n",
       "        vertical-align: middle;\n",
       "    }\n",
       "\n",
       "    .dataframe tbody tr th {\n",
       "        vertical-align: top;\n",
       "    }\n",
       "\n",
       "    .dataframe thead th {\n",
       "        text-align: right;\n",
       "    }\n",
       "</style>\n",
       "<table border=\"1\" class=\"dataframe\">\n",
       "  <thead>\n",
       "    <tr style=\"text-align: right;\">\n",
       "      <th></th>\n",
       "      <th>count</th>\n",
       "      <th>unique</th>\n",
       "      <th>top</th>\n",
       "      <th>freq</th>\n",
       "    </tr>\n",
       "  </thead>\n",
       "  <tbody>\n",
       "    <tr>\n",
       "      <th>Name</th>\n",
       "      <td>16598</td>\n",
       "      <td>11493</td>\n",
       "      <td>Need for Speed: Most Wanted</td>\n",
       "      <td>12</td>\n",
       "    </tr>\n",
       "    <tr>\n",
       "      <th>Platform</th>\n",
       "      <td>16598</td>\n",
       "      <td>31</td>\n",
       "      <td>DS</td>\n",
       "      <td>2163</td>\n",
       "    </tr>\n",
       "    <tr>\n",
       "      <th>Genre</th>\n",
       "      <td>16598</td>\n",
       "      <td>12</td>\n",
       "      <td>Action</td>\n",
       "      <td>3316</td>\n",
       "    </tr>\n",
       "    <tr>\n",
       "      <th>Publisher</th>\n",
       "      <td>16540</td>\n",
       "      <td>578</td>\n",
       "      <td>Electronic Arts</td>\n",
       "      <td>1351</td>\n",
       "    </tr>\n",
       "  </tbody>\n",
       "</table>\n",
       "</div>"
      ],
      "text/plain": [
       "           count unique                          top  freq\n",
       "Name       16598  11493  Need for Speed: Most Wanted    12\n",
       "Platform   16598     31                           DS  2163\n",
       "Genre      16598     12                       Action  3316\n",
       "Publisher  16540    578              Electronic Arts  1351"
      ]
     },
     "execution_count": 3,
     "metadata": {},
     "output_type": "execute_result"
    }
   ],
   "source": [
    "data.describe(include = 'object').T"
   ]
  },
  {
   "cell_type": "markdown",
   "id": "b77df090",
   "metadata": {},
   "source": [
    "可以看到有31个游戏平台，12个游戏类型，578个发行商"
   ]
  },
  {
   "cell_type": "code",
   "execution_count": 4,
   "id": "9d540df0",
   "metadata": {},
   "outputs": [
    {
     "name": "stdout",
     "output_type": "stream",
     "text": [
      "Year         271\n",
      "Publisher     58\n",
      "dtype: int64\n"
     ]
    }
   ],
   "source": [
    "#对空值数据进行处理\n",
    "print(data.isnull().sum()[data.isnull().sum()!=0]) #统计空值数据\n",
    "\n",
    "data1=data.dropna(axis=0,subset = [\"Publisher\"])  #删除Publisher有缺失的样本\n",
    "\n",
    "data1=data1.dropna(axis=0,subset = [\"Year\"])  #删除Year有缺失的样本\n",
    "\n",
    "data1.index = range(len(data1))  #矫正索引\n",
    "data1['Rank']=range(1,16292)\n",
    "\n",
    "data1.to_excel('E:/桌面/dataMining/third/vgsales_new.xls') #保存为新数据"
   ]
  },
  {
   "cell_type": "markdown",
   "id": "d7dcd1bd",
   "metadata": {},
   "source": [
    "## 一. 电子游戏市场分析"
   ]
  },
  {
   "cell_type": "markdown",
   "id": "d94770a9",
   "metadata": {},
   "source": [
    "## 1.1 概述"
   ]
  },
  {
   "cell_type": "markdown",
   "id": "c80b01ca",
   "metadata": {},
   "source": [
    "我们用数据集提供的销量信息，通过以下几个角度：游戏的类型、发布平台、发行公司，对电子游戏市场受欢迎的程度进行分析。"
   ]
  },
  {
   "cell_type": "markdown",
   "id": "bf87a703",
   "metadata": {},
   "source": [
    "## 1.2 实现方法"
   ]
  },
  {
   "cell_type": "code",
   "execution_count": 5,
   "id": "d40d5372",
   "metadata": {},
   "outputs": [
    {
     "ename": "SyntaxError",
     "evalue": "invalid character in identifier (<ipython-input-5-897b92d07129>, line 1)",
     "output_type": "error",
     "traceback": [
      "\u001b[1;36m  File \u001b[1;32m\"<ipython-input-5-897b92d07129>\"\u001b[1;36m, line \u001b[1;32m1\u001b[0m\n\u001b[1;33m    语言：python\u001b[0m\n\u001b[1;37m            ^\u001b[0m\n\u001b[1;31mSyntaxError\u001b[0m\u001b[1;31m:\u001b[0m invalid character in identifier\n"
     ]
    }
   ],
   "source": [
    "语言：python\n",
    "结果：PNG图表\n",
    "依赖包：matplotlib， pandas， numpy， seaborn"
   ]
  },
  {
   "cell_type": "code",
   "execution_count": 6,
   "id": "f904006b",
   "metadata": {},
   "outputs": [],
   "source": [
    "import matplotlib.pyplot as plt\n",
    "import pandas as pd\n",
    "import numpy as np\n",
    "import  seaborn as sns\n",
    "#画图风格\n",
    "plt.style.use(\"ggplot\")"
   ]
  },
  {
   "cell_type": "markdown",
   "id": "73354160",
   "metadata": {},
   "source": [
    "## 1.3 对受欢迎的游戏类型进行分析"
   ]
  },
  {
   "cell_type": "code",
   "execution_count": 7,
   "id": "ae24580f",
   "metadata": {},
   "outputs": [
    {
     "data": {
      "text/plain": [
       "<AxesSubplot:xlabel='Genre', ylabel='Genre_sales'>"
      ]
     },
     "execution_count": 7,
     "metadata": {},
     "output_type": "execute_result"
    },
    {
     "data": {
      "image/png": "[encoded data removed]",
      "text/plain": [
       "<Figure size 864x432 with 2 Axes>"
      ]
     },
     "metadata": {},
     "output_type": "display_data"
    }
   ],
   "source": [
    "FGE=pd.pivot_table(data,index='Year',columns='Genre',values='Global_Sales',aggfunc=np.sum).sum().sort_values(ascending=False)\n",
    "FGE=pd.DataFrame(data=FGE,columns={'Genre_sales'})\n",
    "FGE_near5=pd.pivot_table(data,index='Year',columns='Genre',values='Global_Sales',aggfunc=np.sum).iloc[-5:,:].sum().sort_values(ascending=False)\n",
    "FGE_near5=pd.DataFrame(data=FGE_near5,columns={'Genre_sales'})\n",
    "fig,(ax1,ax2)=plt.subplots(2,1,figsize=(12,6))\n",
    "sns.barplot(x=FGE.index,y='Genre_sales',data=FGE,ax=ax1)\n",
    "sns.barplot(x=FGE_near5.index,y='Genre_sales',data=FGE_near5,ax=ax2)"
   ]
  },
  {
   "cell_type": "markdown",
   "id": "275818af",
   "metadata": {},
   "source": [
    "## 1.4 对受欢迎的游戏发布平台进行分析"
   ]
  },
  {
   "cell_type": "markdown",
   "id": "fca669c1",
   "metadata": {},
   "source": [
    "可以看到自统计（1980）以来和近五年最受欢迎的游戏类型都是动作类型\n",
    "近五年原本第三的射击类游戏反超了运动类游戏，成为了第二\n",
    "Platform 和 puzzle类的销量多有所下滑"
   ]
  },
  {
   "cell_type": "code",
   "execution_count": 8,
   "id": "de3be1c3",
   "metadata": {},
   "outputs": [
    {
     "data": {
      "text/plain": [
       "<AxesSubplot:xlabel='Platform', ylabel='Global_Sales'>"
      ]
     },
     "execution_count": 8,
     "metadata": {},
     "output_type": "execute_result"
    },
    {
     "data": {
      "image/png": "[encoded data removed]",
      "text/plain": [
       "<Figure size 864x432 with 2 Axes>"
      ]
     },
     "metadata": {},
     "output_type": "display_data"
    }
   ],
   "source": [
    "FPF=pd.pivot_table(data,index='Year',columns='Platform',values='Global_Sales',aggfunc=np.sum).sum().sort_values(ascending=False)\n",
    "FPF=pd.DataFrame(data=FPF,columns={'Global_Sales'})\n",
    "FPF_near5=pd.pivot_table(data,index='Year',columns='Platform',values='Global_Sales',aggfunc=np.sum).iloc[-5:,:].sum().sort_values(ascending=False)\n",
    "FPF_near5=pd.DataFrame(data=FPF_near5,columns={'Global_Sales'})\n",
    "fig,(ax1,ax2)=plt.subplots(2,1,figsize=(12,6))\n",
    "sns.barplot(x=FPF.index,y='Global_Sales',data=FPF,ax=ax1)\n",
    "sns.barplot(x=FPF_near5.index,y='Global_Sales',data=FPF_near5,ax=ax2)"
   ]
  },
  {
   "cell_type": "code",
   "execution_count": 9,
   "id": "d3eb3fb7",
   "metadata": {},
   "outputs": [
    {
     "ename": "SyntaxError",
     "evalue": "invalid character in identifier (<ipython-input-9-5b12eebac0e0>, line 1)",
     "output_type": "error",
     "traceback": [
      "\u001b[1;36m  File \u001b[1;32m\"<ipython-input-9-5b12eebac0e0>\"\u001b[1;36m, line \u001b[1;32m1\u001b[0m\n\u001b[1;33m    PS2是至今最受欢迎的平台，\u001b[0m\n\u001b[1;37m                 ^\u001b[0m\n\u001b[1;31mSyntaxError\u001b[0m\u001b[1;31m:\u001b[0m invalid character in identifier\n"
     ]
    }
   ],
   "source": [
    "PS2是至今最受欢迎的平台，\n",
    "但是以PS2为代表的老牌游戏随着时代的更替，老牌的平台在近五年的表现都大幅下降\n",
    "可以看到PS4异军突起，取代PS2成为了最受欢迎的游戏平台"
   ]
  },
  {
   "cell_type": "markdown",
   "id": "f1f8d01f",
   "metadata": {},
   "source": [
    "## 1.5 对受欢迎的游戏发行公司进行分析"
   ]
  },
  {
   "cell_type": "code",
   "execution_count": 10,
   "id": "39b59fe4",
   "metadata": {},
   "outputs": [
    {
     "data": {
      "text/html": [
       "\n",
       "<script>\n",
       "    require.config({\n",
       "        paths: {\n",
       "            'echarts':'https://assets.pyecharts.org/assets/echarts.min'\n",
       "        }\n",
       "    });\n",
       "</script>\n",
       "\n",
       "        <div id=\"f753709795834d2e8cf6873f3a62ebea\" style=\"width:900px; height:500px;\"></div>\n",
       "\n",
       "<script>\n",
       "        require(['echarts'], function(echarts) {\n",
       "                var chart_f753709795834d2e8cf6873f3a62ebea = echarts.init(\n",
       "                    document.getElementById('f753709795834d2e8cf6873f3a62ebea'), 'white', {renderer: 'canvas'});\n",
       "                var option_f753709795834d2e8cf6873f3a62ebea = {\n",
       "    \"animation\": true,\n",
       "    \"animationThreshold\": 2000,\n",
       "    \"animationDuration\": 1000,\n",
       "    \"animationEasing\": \"cubicOut\",\n",
       "    \"animationDelay\": 0,\n",
       "    \"animationDurationUpdate\": 300,\n",
       "    \"animationEasingUpdate\": \"cubicOut\",\n",
       "    \"animationDelayUpdate\": 0,\n",
       "    \"color\": [\n",
       "        \"#c23531\",\n",
       "        \"#2f4554\",\n",
       "        \"#61a0a8\",\n",
       "        \"#d48265\",\n",
       "        \"#749f83\",\n",
       "        \"#ca8622\",\n",
       "        \"#bda29a\",\n",
       "        \"#6e7074\",\n",
       "        \"#546570\",\n",
       "        \"#c4ccd3\",\n",
       "        \"#f05b72\",\n",
       "        \"#ef5b9c\",\n",
       "        \"#f47920\",\n",
       "        \"#905a3d\",\n",
       "        \"#fab27b\",\n",
       "        \"#2a5caa\",\n",
       "        \"#444693\",\n",
       "        \"#726930\",\n",
       "        \"#b2d235\",\n",
       "        \"#6d8346\",\n",
       "        \"#ac6767\",\n",
       "        \"#1d953f\",\n",
       "        \"#6950a1\",\n",
       "        \"#918597\"\n",
       "    ],\n",
       "    \"series\": [\n",
       "        {\n",
       "            \"type\": \"pie\",\n",
       "            \"clockwise\": true,\n",
       "            \"data\": [\n",
       "                {\n",
       "                    \"name\": \"Nintendo\",\n",
       "                    \"value\": 1786\n",
       "                },\n",
       "                {\n",
       "                    \"name\": \"Electronic Arts\",\n",
       "                    \"value\": 1110\n",
       "                },\n",
       "                {\n",
       "                    \"name\": \"Activision\",\n",
       "                    \"value\": 727\n",
       "                },\n",
       "                {\n",
       "                    \"name\": \"Sony Computer Entertainment\",\n",
       "                    \"value\": 607\n",
       "                },\n",
       "                {\n",
       "                    \"name\": \"Ubisoft\",\n",
       "                    \"value\": 474\n",
       "                }\n",
       "            ],\n",
       "            \"radius\": [\n",
       "                \"0%\",\n",
       "                \"75%\"\n",
       "            ],\n",
       "            \"center\": [\n",
       "                \"50%\",\n",
       "                \"50%\"\n",
       "            ],\n",
       "            \"label\": {\n",
       "                \"show\": true,\n",
       "                \"position\": \"top\",\n",
       "                \"margin\": 8,\n",
       "                \"formatter\": \"{b}: {c}\"\n",
       "            },\n",
       "            \"rippleEffect\": {\n",
       "                \"show\": true,\n",
       "                \"brushType\": \"stroke\",\n",
       "                \"scale\": 2.5,\n",
       "                \"period\": 4\n",
       "            }\n",
       "        }\n",
       "    ],\n",
       "    \"legend\": [\n",
       "        {\n",
       "            \"data\": [\n",
       "                \"Nintendo\",\n",
       "                \"Electronic Arts\",\n",
       "                \"Activision\",\n",
       "                \"Sony Computer Entertainment\",\n",
       "                \"Ubisoft\"\n",
       "            ],\n",
       "            \"selected\": {},\n",
       "            \"show\": true,\n",
       "            \"padding\": 5,\n",
       "            \"itemGap\": 10,\n",
       "            \"itemWidth\": 25,\n",
       "            \"itemHeight\": 14\n",
       "        }\n",
       "    ],\n",
       "    \"tooltip\": {\n",
       "        \"show\": true,\n",
       "        \"trigger\": \"item\",\n",
       "        \"triggerOn\": \"mousemove|click\",\n",
       "        \"axisPointer\": {\n",
       "            \"type\": \"line\"\n",
       "        },\n",
       "        \"showContent\": true,\n",
       "        \"alwaysShowContent\": false,\n",
       "        \"showDelay\": 0,\n",
       "        \"hideDelay\": 100,\n",
       "        \"textStyle\": {\n",
       "            \"fontSize\": 14\n",
       "        },\n",
       "        \"borderWidth\": 0,\n",
       "        \"padding\": 5\n",
       "    },\n",
       "    \"title\": [\n",
       "        {\n",
       "            \"text\": \"Publishers\",\n",
       "            \"padding\": 5,\n",
       "            \"itemGap\": 10\n",
       "        }\n",
       "    ]\n",
       "};\n",
       "                chart_f753709795834d2e8cf6873f3a62ebea.setOption(option_f753709795834d2e8cf6873f3a62ebea);\n",
       "        });\n",
       "    </script>\n"
      ],
      "text/plain": [
       "<pyecharts.render.display.HTML at 0x23bb003ec18>"
      ]
     },
     "execution_count": 10,
     "metadata": {},
     "output_type": "execute_result"
    }
   ],
   "source": [
    "from pyecharts.charts import Pie\n",
    "from pyecharts import options as opts\n",
    "\n",
    "PBL=pd.pivot_table(data=data,index='Publisher',values='Global_Sales',aggfunc=np.sum)\n",
    "PBL=PBL.sort_values(by='Global_Sales',ascending=False)\n",
    "PBL_near5=data[data['Year']>2013]\n",
    "PBL_near5=pd.pivot_table(data=PBL_near5,index='Publisher',values='Global_Sales',aggfunc=np.sum)\n",
    "PBL_near5=PBL_near5.sort_values(by='Global_Sales',ascending=False)\n",
    "\n",
    "PBL_value = PBL.head().values\n",
    "PBL_value = PBL_value.tolist()\n",
    "PBL_value = [int(x[0]) for x  in PBL_value]\n",
    "# print(PBL_value)\n",
    "\n",
    "pie=(\n",
    "        Pie()\n",
    "        .add(\"\", [list(z) for z in zip(PBL.head().index, PBL_value)])\n",
    "        .set_global_opts(title_opts=opts.TitleOpts(title=\"Publishers\"))\n",
    "        .set_series_opts(label_opts=opts.LabelOpts(formatter=\"{b}: {c}\"))\n",
    "        )\n",
    "\n",
    "pie.render('pie.html')\n",
    "pie.render_notebook()"
   ]
  },
  {
   "cell_type": "markdown",
   "id": "9624a00e",
   "metadata": {},
   "source": [
    "## 二. 预测每年电子游戏销售额"
   ]
  },
  {
   "cell_type": "markdown",
   "id": "27318678",
   "metadata": {},
   "source": [
    "### 2.1 概述\n",
    "    我们通过过去每年各个市场，各个游戏类型的销售额对未来游戏的销售额进行预测。"
   ]
  },
  {
   "cell_type": "markdown",
   "id": "bd358219",
   "metadata": {},
   "source": [
    "### 2.2 实现方法"
   ]
  },
  {
   "cell_type": "code",
   "execution_count": 11,
   "id": "c6252d13",
   "metadata": {},
   "outputs": [
    {
     "ename": "SyntaxError",
     "evalue": "invalid character in identifier (<ipython-input-11-8ad7da3d791d>, line 1)",
     "output_type": "error",
     "traceback": [
      "\u001b[1;36m  File \u001b[1;32m\"<ipython-input-11-8ad7da3d791d>\"\u001b[1;36m, line \u001b[1;32m1\u001b[0m\n\u001b[1;33m    语言：python\u001b[0m\n\u001b[1;37m            ^\u001b[0m\n\u001b[1;31mSyntaxError\u001b[0m\u001b[1;31m:\u001b[0m invalid character in identifier\n"
     ]
    }
   ],
   "source": [
    "语言：python\n",
    "结果：txt\n",
    "依赖包：pandas，sklearn"
   ]
  },
  {
   "cell_type": "code",
   "execution_count": 12,
   "id": "339cb059",
   "metadata": {},
   "outputs": [],
   "source": [
    "from sklearn.linear_model import LinearRegression"
   ]
  },
  {
   "cell_type": "markdown",
   "id": "27eff8ff",
   "metadata": {},
   "source": [
    "### 2.3 各个市场的销售额及总销售额"
   ]
  },
  {
   "cell_type": "code",
   "execution_count": 13,
   "id": "c5fc32e0",
   "metadata": {},
   "outputs": [
    {
     "name": "stdout",
     "output_type": "stream",
     "text": [
      "        EU_Sales  Global_Sales  JP_Sales  NA_Sales  Other_Sales\n",
      "Year                                                           \n",
      "2020.0      0.00          0.29      0.00      0.27         0.02\n",
      "2017.0      0.00          0.05      0.05      0.00         0.00\n",
      "2016.0     26.76         70.93     13.70     22.66         7.75\n",
      "2015.0     97.71        264.44     33.72    102.82        30.01\n",
      "2014.0    125.65        337.05     39.46    131.97        40.02\n",
      "2013.0    125.80        368.11     47.59    154.77        39.82\n",
      "2012.0    118.78        363.54     51.74    154.96        37.82\n",
      "2011.0    167.44        515.99     53.04    241.06        54.39\n",
      "2010.0    176.73        600.45     59.49    304.24        59.90\n",
      "2009.0    191.59        667.30     61.89    338.85        74.77\n",
      "2008.0    184.40        678.90     60.26    351.44        82.39\n",
      "2007.0    160.50        611.13     60.29    312.05        77.60\n",
      "2006.0    129.24        521.04     73.73    263.12        54.43\n",
      "2005.0    121.94        459.94     54.28    242.61        40.58\n",
      "2004.0    107.32        419.31     41.65    222.59        47.29\n",
      "2003.0    103.81        357.85     34.20    193.59        26.01\n",
      "2002.0    109.74        395.52     41.76    216.19        27.28\n",
      "2001.0     94.89        331.47     39.86    173.98        22.76\n",
      "2000.0     52.75        201.56     42.77     94.49        11.62\n",
      "1999.0     62.67        251.27     52.34    126.06        10.05\n",
      "1998.0     66.90        256.47     50.04    128.36        11.03\n",
      "1997.0     48.32        200.98     48.87     94.75         9.13\n",
      "1996.0     47.26        199.15     57.44     86.76         7.69\n",
      "1995.0     14.90         88.11     45.75     24.82         2.64\n",
      "1994.0     14.88         79.17     33.99     28.15         2.20\n",
      "1993.0      4.65         45.98     25.33     15.12         0.89\n",
      "1992.0     11.71         76.16     28.91     33.87         1.65\n",
      "1991.0      3.95         32.23     14.78     12.76         0.74\n",
      "1990.0      7.63         49.39     14.88     25.46         1.40\n",
      "1989.0      8.44         73.45     18.36     45.15         1.50\n",
      "1988.0      6.59         47.22     15.76     23.87         0.99\n",
      "1987.0      1.41         21.74     11.63      8.46         0.20\n",
      "1986.0      2.84         37.07     19.81     12.50         1.93\n",
      "1985.0      4.74         53.94     14.56     33.73         0.92\n",
      "1984.0      2.10         50.36     14.27     33.28         0.70\n",
      "1983.0      0.80         16.79      8.10      7.76         0.14\n",
      "1982.0      1.65         28.86      0.00     26.92         0.31\n",
      "1981.0      1.96         35.77      0.00     33.40         0.32\n",
      "1980.0      0.67         11.38      0.00     10.59         0.12\n"
     ]
    }
   ],
   "source": [
    "P = ['NA_Sales','EU_Sales','JP_Sales','Other_Sales','Global_Sales']\n",
    "FGE=pd.pivot_table(data,index='Year',values=P,aggfunc=np.sum).sort_index(ascending=False)\n",
    "print(FGE)"
   ]
  },
  {
   "cell_type": "code",
   "execution_count": 14,
   "id": "02361d86",
   "metadata": {},
   "outputs": [
    {
     "data": {
      "text/html": [
       "<div>\n",
       "<style scoped>\n",
       "    .dataframe tbody tr th:only-of-type {\n",
       "        vertical-align: middle;\n",
       "    }\n",
       "\n",
       "    .dataframe tbody tr th {\n",
       "        vertical-align: top;\n",
       "    }\n",
       "\n",
       "    .dataframe thead th {\n",
       "        text-align: right;\n",
       "    }\n",
       "</style>\n",
       "<table border=\"1\" class=\"dataframe\">\n",
       "  <thead>\n",
       "    <tr style=\"text-align: right;\">\n",
       "      <th></th>\n",
       "      <th>NA_Sales</th>\n",
       "      <th>EU_Sales</th>\n",
       "      <th>JP_Sales</th>\n",
       "      <th>Other_Sales</th>\n",
       "      <th>Global_Sales</th>\n",
       "    </tr>\n",
       "    <tr>\n",
       "      <th>Year</th>\n",
       "      <th></th>\n",
       "      <th></th>\n",
       "      <th></th>\n",
       "      <th></th>\n",
       "      <th></th>\n",
       "    </tr>\n",
       "  </thead>\n",
       "  <tbody>\n",
       "    <tr>\n",
       "      <th>2014.0</th>\n",
       "      <td>131.97</td>\n",
       "      <td>125.65</td>\n",
       "      <td>39.46</td>\n",
       "      <td>40.02</td>\n",
       "      <td>337.05</td>\n",
       "    </tr>\n",
       "    <tr>\n",
       "      <th>2013.0</th>\n",
       "      <td>154.77</td>\n",
       "      <td>125.80</td>\n",
       "      <td>47.59</td>\n",
       "      <td>39.82</td>\n",
       "      <td>368.11</td>\n",
       "    </tr>\n",
       "    <tr>\n",
       "      <th>2012.0</th>\n",
       "      <td>154.96</td>\n",
       "      <td>118.78</td>\n",
       "      <td>51.74</td>\n",
       "      <td>37.82</td>\n",
       "      <td>363.54</td>\n",
       "    </tr>\n",
       "    <tr>\n",
       "      <th>2011.0</th>\n",
       "      <td>241.06</td>\n",
       "      <td>167.44</td>\n",
       "      <td>53.04</td>\n",
       "      <td>54.39</td>\n",
       "      <td>515.99</td>\n",
       "    </tr>\n",
       "    <tr>\n",
       "      <th>2010.0</th>\n",
       "      <td>304.24</td>\n",
       "      <td>176.73</td>\n",
       "      <td>59.49</td>\n",
       "      <td>59.90</td>\n",
       "      <td>600.45</td>\n",
       "    </tr>\n",
       "    <tr>\n",
       "      <th>2009.0</th>\n",
       "      <td>338.85</td>\n",
       "      <td>191.59</td>\n",
       "      <td>61.89</td>\n",
       "      <td>74.77</td>\n",
       "      <td>667.30</td>\n",
       "    </tr>\n",
       "    <tr>\n",
       "      <th>2008.0</th>\n",
       "      <td>351.44</td>\n",
       "      <td>184.40</td>\n",
       "      <td>60.26</td>\n",
       "      <td>82.39</td>\n",
       "      <td>678.90</td>\n",
       "    </tr>\n",
       "    <tr>\n",
       "      <th>2007.0</th>\n",
       "      <td>312.05</td>\n",
       "      <td>160.50</td>\n",
       "      <td>60.29</td>\n",
       "      <td>77.60</td>\n",
       "      <td>611.13</td>\n",
       "    </tr>\n",
       "    <tr>\n",
       "      <th>2006.0</th>\n",
       "      <td>263.12</td>\n",
       "      <td>129.24</td>\n",
       "      <td>73.73</td>\n",
       "      <td>54.43</td>\n",
       "      <td>521.04</td>\n",
       "    </tr>\n",
       "    <tr>\n",
       "      <th>2005.0</th>\n",
       "      <td>242.61</td>\n",
       "      <td>121.94</td>\n",
       "      <td>54.28</td>\n",
       "      <td>40.58</td>\n",
       "      <td>459.94</td>\n",
       "    </tr>\n",
       "    <tr>\n",
       "      <th>2004.0</th>\n",
       "      <td>222.59</td>\n",
       "      <td>107.32</td>\n",
       "      <td>41.65</td>\n",
       "      <td>47.29</td>\n",
       "      <td>419.31</td>\n",
       "    </tr>\n",
       "    <tr>\n",
       "      <th>2003.0</th>\n",
       "      <td>193.59</td>\n",
       "      <td>103.81</td>\n",
       "      <td>34.20</td>\n",
       "      <td>26.01</td>\n",
       "      <td>357.85</td>\n",
       "    </tr>\n",
       "    <tr>\n",
       "      <th>2002.0</th>\n",
       "      <td>216.19</td>\n",
       "      <td>109.74</td>\n",
       "      <td>41.76</td>\n",
       "      <td>27.28</td>\n",
       "      <td>395.52</td>\n",
       "    </tr>\n",
       "    <tr>\n",
       "      <th>2001.0</th>\n",
       "      <td>173.98</td>\n",
       "      <td>94.89</td>\n",
       "      <td>39.86</td>\n",
       "      <td>22.76</td>\n",
       "      <td>331.47</td>\n",
       "    </tr>\n",
       "    <tr>\n",
       "      <th>2000.0</th>\n",
       "      <td>94.49</td>\n",
       "      <td>52.75</td>\n",
       "      <td>42.77</td>\n",
       "      <td>11.62</td>\n",
       "      <td>201.56</td>\n",
       "    </tr>\n",
       "    <tr>\n",
       "      <th>1999.0</th>\n",
       "      <td>126.06</td>\n",
       "      <td>62.67</td>\n",
       "      <td>52.34</td>\n",
       "      <td>10.05</td>\n",
       "      <td>251.27</td>\n",
       "    </tr>\n",
       "    <tr>\n",
       "      <th>1998.0</th>\n",
       "      <td>128.36</td>\n",
       "      <td>66.90</td>\n",
       "      <td>50.04</td>\n",
       "      <td>11.03</td>\n",
       "      <td>256.47</td>\n",
       "    </tr>\n",
       "    <tr>\n",
       "      <th>1997.0</th>\n",
       "      <td>94.75</td>\n",
       "      <td>48.32</td>\n",
       "      <td>48.87</td>\n",
       "      <td>9.13</td>\n",
       "      <td>200.98</td>\n",
       "    </tr>\n",
       "    <tr>\n",
       "      <th>1996.0</th>\n",
       "      <td>86.76</td>\n",
       "      <td>47.26</td>\n",
       "      <td>57.44</td>\n",
       "      <td>7.69</td>\n",
       "      <td>199.15</td>\n",
       "    </tr>\n",
       "    <tr>\n",
       "      <th>1995.0</th>\n",
       "      <td>24.82</td>\n",
       "      <td>14.90</td>\n",
       "      <td>45.75</td>\n",
       "      <td>2.64</td>\n",
       "      <td>88.11</td>\n",
       "    </tr>\n",
       "    <tr>\n",
       "      <th>1994.0</th>\n",
       "      <td>28.15</td>\n",
       "      <td>14.88</td>\n",
       "      <td>33.99</td>\n",
       "      <td>2.20</td>\n",
       "      <td>79.17</td>\n",
       "    </tr>\n",
       "    <tr>\n",
       "      <th>1993.0</th>\n",
       "      <td>15.12</td>\n",
       "      <td>4.65</td>\n",
       "      <td>25.33</td>\n",
       "      <td>0.89</td>\n",
       "      <td>45.98</td>\n",
       "    </tr>\n",
       "    <tr>\n",
       "      <th>1992.0</th>\n",
       "      <td>33.87</td>\n",
       "      <td>11.71</td>\n",
       "      <td>28.91</td>\n",
       "      <td>1.65</td>\n",
       "      <td>76.16</td>\n",
       "    </tr>\n",
       "    <tr>\n",
       "      <th>1991.0</th>\n",
       "      <td>12.76</td>\n",
       "      <td>3.95</td>\n",
       "      <td>14.78</td>\n",
       "      <td>0.74</td>\n",
       "      <td>32.23</td>\n",
       "    </tr>\n",
       "    <tr>\n",
       "      <th>1990.0</th>\n",
       "      <td>25.46</td>\n",
       "      <td>7.63</td>\n",
       "      <td>14.88</td>\n",
       "      <td>1.40</td>\n",
       "      <td>49.39</td>\n",
       "    </tr>\n",
       "    <tr>\n",
       "      <th>1989.0</th>\n",
       "      <td>45.15</td>\n",
       "      <td>8.44</td>\n",
       "      <td>18.36</td>\n",
       "      <td>1.50</td>\n",
       "      <td>73.45</td>\n",
       "    </tr>\n",
       "    <tr>\n",
       "      <th>1988.0</th>\n",
       "      <td>23.87</td>\n",
       "      <td>6.59</td>\n",
       "      <td>15.76</td>\n",
       "      <td>0.99</td>\n",
       "      <td>47.22</td>\n",
       "    </tr>\n",
       "    <tr>\n",
       "      <th>1987.0</th>\n",
       "      <td>8.46</td>\n",
       "      <td>1.41</td>\n",
       "      <td>11.63</td>\n",
       "      <td>0.20</td>\n",
       "      <td>21.74</td>\n",
       "    </tr>\n",
       "    <tr>\n",
       "      <th>1986.0</th>\n",
       "      <td>12.50</td>\n",
       "      <td>2.84</td>\n",
       "      <td>19.81</td>\n",
       "      <td>1.93</td>\n",
       "      <td>37.07</td>\n",
       "    </tr>\n",
       "    <tr>\n",
       "      <th>1985.0</th>\n",
       "      <td>33.73</td>\n",
       "      <td>4.74</td>\n",
       "      <td>14.56</td>\n",
       "      <td>0.92</td>\n",
       "      <td>53.94</td>\n",
       "    </tr>\n",
       "    <tr>\n",
       "      <th>1984.0</th>\n",
       "      <td>33.28</td>\n",
       "      <td>2.10</td>\n",
       "      <td>14.27</td>\n",
       "      <td>0.70</td>\n",
       "      <td>50.36</td>\n",
       "    </tr>\n",
       "    <tr>\n",
       "      <th>1983.0</th>\n",
       "      <td>7.76</td>\n",
       "      <td>0.80</td>\n",
       "      <td>8.10</td>\n",
       "      <td>0.14</td>\n",
       "      <td>16.79</td>\n",
       "    </tr>\n",
       "    <tr>\n",
       "      <th>1982.0</th>\n",
       "      <td>26.92</td>\n",
       "      <td>1.65</td>\n",
       "      <td>0.00</td>\n",
       "      <td>0.31</td>\n",
       "      <td>28.86</td>\n",
       "    </tr>\n",
       "    <tr>\n",
       "      <th>1981.0</th>\n",
       "      <td>33.40</td>\n",
       "      <td>1.96</td>\n",
       "      <td>0.00</td>\n",
       "      <td>0.32</td>\n",
       "      <td>35.77</td>\n",
       "    </tr>\n",
       "    <tr>\n",
       "      <th>1980.0</th>\n",
       "      <td>10.59</td>\n",
       "      <td>0.67</td>\n",
       "      <td>0.00</td>\n",
       "      <td>0.12</td>\n",
       "      <td>11.38</td>\n",
       "    </tr>\n",
       "  </tbody>\n",
       "</table>\n",
       "</div>"
      ],
      "text/plain": [
       "        NA_Sales  EU_Sales  JP_Sales  Other_Sales  Global_Sales\n",
       "Year                                                           \n",
       "2014.0    131.97    125.65     39.46        40.02        337.05\n",
       "2013.0    154.77    125.80     47.59        39.82        368.11\n",
       "2012.0    154.96    118.78     51.74        37.82        363.54\n",
       "2011.0    241.06    167.44     53.04        54.39        515.99\n",
       "2010.0    304.24    176.73     59.49        59.90        600.45\n",
       "2009.0    338.85    191.59     61.89        74.77        667.30\n",
       "2008.0    351.44    184.40     60.26        82.39        678.90\n",
       "2007.0    312.05    160.50     60.29        77.60        611.13\n",
       "2006.0    263.12    129.24     73.73        54.43        521.04\n",
       "2005.0    242.61    121.94     54.28        40.58        459.94\n",
       "2004.0    222.59    107.32     41.65        47.29        419.31\n",
       "2003.0    193.59    103.81     34.20        26.01        357.85\n",
       "2002.0    216.19    109.74     41.76        27.28        395.52\n",
       "2001.0    173.98     94.89     39.86        22.76        331.47\n",
       "2000.0     94.49     52.75     42.77        11.62        201.56\n",
       "1999.0    126.06     62.67     52.34        10.05        251.27\n",
       "1998.0    128.36     66.90     50.04        11.03        256.47\n",
       "1997.0     94.75     48.32     48.87         9.13        200.98\n",
       "1996.0     86.76     47.26     57.44         7.69        199.15\n",
       "1995.0     24.82     14.90     45.75         2.64         88.11\n",
       "1994.0     28.15     14.88     33.99         2.20         79.17\n",
       "1993.0     15.12      4.65     25.33         0.89         45.98\n",
       "1992.0     33.87     11.71     28.91         1.65         76.16\n",
       "1991.0     12.76      3.95     14.78         0.74         32.23\n",
       "1990.0     25.46      7.63     14.88         1.40         49.39\n",
       "1989.0     45.15      8.44     18.36         1.50         73.45\n",
       "1988.0     23.87      6.59     15.76         0.99         47.22\n",
       "1987.0      8.46      1.41     11.63         0.20         21.74\n",
       "1986.0     12.50      2.84     19.81         1.93         37.07\n",
       "1985.0     33.73      4.74     14.56         0.92         53.94\n",
       "1984.0     33.28      2.10     14.27         0.70         50.36\n",
       "1983.0      7.76      0.80      8.10         0.14         16.79\n",
       "1982.0     26.92      1.65      0.00         0.31         28.86\n",
       "1981.0     33.40      1.96      0.00         0.32         35.77\n",
       "1980.0     10.59      0.67      0.00         0.12         11.38"
      ]
     },
     "execution_count": 14,
     "metadata": {},
     "output_type": "execute_result"
    }
   ],
   "source": [
    "SALE_BEFORE = FGE.iloc[4:]\n",
    "x_train_data = SALE_BEFORE.index\n",
    "y_train_data = pd.DataFrame(data=SALE_BEFORE,columns=P)\n",
    "y_train_data"
   ]
  },
  {
   "cell_type": "markdown",
   "id": "de998e71",
   "metadata": {},
   "source": [
    "可以看到2015-2016总销量呈现了一定的下降趋势，并且2018，2019的游戏总销量为0，我们推测这是由不完全统计导致的，我们用1980-2014的数据来重新预测游戏销量，希望能近似的预测出这年的游戏该有的销量。"
   ]
  },
  {
   "cell_type": "code",
   "execution_count": 15,
   "id": "bbc4a819",
   "metadata": {},
   "outputs": [
    {
     "name": "stdout",
     "output_type": "stream",
     "text": [
      "y_test_NA: \n",
      "[[278.1772437 ]\n",
      " [286.95267787]\n",
      " [295.72811204]\n",
      " [304.50354622]\n",
      " [313.27898039]\n",
      " [322.05441457]\n",
      " [330.82984874]]\n",
      "y_test_EU: \n",
      "[[169.57084034]\n",
      " [175.36501401]\n",
      " [181.15918768]\n",
      " [186.95336134]\n",
      " [192.74753501]\n",
      " [198.54170868]\n",
      " [204.33588235]]\n",
      "y_test_JP: \n",
      "[[66.56008403]\n",
      " [68.29464426]\n",
      " [70.02920448]\n",
      " [71.76376471]\n",
      " [73.49832493]\n",
      " [75.23288515]\n",
      " [76.96744538]]\n",
      "y_test_Other: \n",
      "[[59.15687395]\n",
      " [61.25093838]\n",
      " [63.3450028 ]\n",
      " [65.43906723]\n",
      " [67.53313165]\n",
      " [69.62719608]\n",
      " [71.7212605 ]]\n",
      "y_test_Global: \n",
      "[[573.76670588]\n",
      " [592.17493557]\n",
      " [610.58316527]\n",
      " [628.99139496]\n",
      " [647.39962465]\n",
      " [665.80785434]\n",
      " [684.21608403]]\n"
     ]
    }
   ],
   "source": [
    "x_train = x_train_data.values.reshape(-1,1)\n",
    "P = ['NA_Sales','EU_Sales','JP_Sales','Other_Sales','Global_Sales']\n",
    "y_train_NA = np.expand_dims(y_train_data['NA_Sales'].values,1)\n",
    "y_train_EU = np.expand_dims(y_train_data['EU_Sales'].values,1)\n",
    "y_train_JP = np.expand_dims(y_train_data['JP_Sales'].values,1)\n",
    "y_train_Other = np.expand_dims(y_train_data['Other_Sales'].values,1)\n",
    "y_train_Global = np.expand_dims(y_train_data['Global_Sales'].values,1)\n",
    "\n",
    "reg_NA = LinearRegression().fit(x_train,y_train_NA)\n",
    "reg_EU = LinearRegression().fit(x_train,y_train_EU)\n",
    "reg_JP = LinearRegression().fit(x_train,y_train_JP)\n",
    "reg_Other = LinearRegression().fit(x_train,y_train_Other)\n",
    "reg_Global = LinearRegression().fit(x_train,y_train_Global)\n",
    "x_test = np.array([2015,2016,2017,2018,2019,2020,2021]).reshape(-1,1)\n",
    "y_test_NA = reg_NA.predict(x_test)\n",
    "y_test_EU = reg_EU.predict(x_test)\n",
    "y_test_JP = reg_JP.predict(x_test)\n",
    "y_test_Other = reg_Other.predict(x_test)\n",
    "y_test_Global = reg_Global.predict(x_test)\n",
    "\n",
    "print('y_test_NA: \\n{}'.format(y_test_NA))\n",
    "print('y_test_EU: \\n{}'.format(y_test_EU))\n",
    "print('y_test_JP: \\n{}'.format(y_test_JP))\n",
    "print('y_test_Other: \\n{}'.format(y_test_Other))\n",
    "print('y_test_Global: \\n{}'.format(y_test_Global))"
   ]
  },
  {
   "cell_type": "markdown",
   "id": "20e6d575",
   "metadata": {},
   "source": [
    "## 三. 可视化应用：如何完整清晰地展示这个销售故事"
   ]
  },
  {
   "cell_type": "markdown",
   "id": "2ca0780e",
   "metadata": {},
   "source": [
    "### 3.1 概述\n",
    "    我们以五大发行商的历史销售情况为例，来展示游戏行业这几年的变化\n",
    "### 3.2 实现方法"
   ]
  },
  {
   "cell_type": "code",
   "execution_count": 16,
   "id": "af4bdd84",
   "metadata": {},
   "outputs": [
    {
     "ename": "SyntaxError",
     "evalue": "invalid character in identifier (<ipython-input-16-897b92d07129>, line 1)",
     "output_type": "error",
     "traceback": [
      "\u001b[1;36m  File \u001b[1;32m\"<ipython-input-16-897b92d07129>\"\u001b[1;36m, line \u001b[1;32m1\u001b[0m\n\u001b[1;33m    语言：python\u001b[0m\n\u001b[1;37m            ^\u001b[0m\n\u001b[1;31mSyntaxError\u001b[0m\u001b[1;31m:\u001b[0m invalid character in identifier\n"
     ]
    }
   ],
   "source": [
    "语言：python\n",
    "结果：PNG图表\n",
    "依赖包：matplotlib， pandas， numpy， seaborn"
   ]
  },
  {
   "cell_type": "code",
   "execution_count": 17,
   "id": "74dbd440",
   "metadata": {},
   "outputs": [
    {
     "data": {
      "text/plain": [
       "<AxesSubplot:title={'center':'sitiuation'}, xlabel='Year'>"
      ]
     },
     "execution_count": 17,
     "metadata": {},
     "output_type": "execute_result"
    },
    {
     "data": {
      "image/png": "[encoded data removed]",
      "text/plain": [
       "<Figure size 864x432 with 1 Axes>"
      ]
     },
     "metadata": {},
     "output_type": "display_data"
    }
   ],
   "source": [
    "P=['Nintendo','Electronic Arts','Activision','Sony Computer Entertainment','Ubisoft']\n",
    "df5PBL=data[data['Publisher'].isin(P)]\n",
    "df5PBL_p=pd.pivot_table(data=df5PBL,index='Year',columns='Publisher',values='Global_Sales',aggfunc=np.sum)\n",
    "df5PBL_p.plot(title='sitiuation',figsize=(12,6))"
   ]
  },
  {
   "cell_type": "markdown",
   "id": "067e5917",
   "metadata": {},
   "source": [
    "可以看到游戏的发行从1980年就已经开始，从一开始只有Activision，到后来Nintendo的崛起，游戏市场的份额还不是特别的大，到了1995年前后，各个游戏公司纷纷加入到了游戏市场，并且都占据了一席之地，游戏市场的份额也达到了井喷式的增长，由于一些游戏是最近发布，一是游戏销量统计的缺失，二是没有时间上的增量，老游戏即使在新的时间仍然有购买量，所以表格中并不能很好的表现出现在仍然欣欣向荣的游戏市场，但是可以看到2005年到2010的游戏的累计销量达到了一个巅峰，说明游戏行业已经有一个长足的进步。"
   ]
  }
 ],
 "metadata": {
  "kernelspec": {
   "display_name": "Python 3",
   "language": "python",
   "name": "python3"
  },
  "language_info": {
   "codemirror_mode": {
    "name": "ipython",
    "version": 3
   },
   "file_extension": ".py",
   "mimetype": "text/x-python",
   "name": "python",
   "nbconvert_exporter": "python",
   "pygments_lexer": "ipython3",
   "version": "3.6.13"
  }
 },
 "nbformat": 4,
 "nbformat_minor": 5
}
