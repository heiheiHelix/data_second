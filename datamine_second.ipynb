{
 "cells": [
  {
   "cell_type": "markdown",
   "id": "1ad59f2c",
   "metadata": {},
   "source": [
    "数据挖掘互评作业三：分类、预测与聚类\n",
    "姓名：黄贵宸\n",
    "学号：3220200892\n",
    "github地址:"
   ]
  },
  {
   "cell_type": "markdown",
   "id": "5936df9d",
   "metadata": {},
   "source": [
    "# 实验方法与结果\n",
    "\n",
    "*  数据说明：选取的数据集为 \n",
    "    [Wine Reviews](https://www.kaggle.com/zynicide/wine-reviews)\n",
    "* 前期的数据读入及数据的基础分析："
   ]
  },
  {
   "cell_type": "code",
   "execution_count": 1,
   "id": "de1b22ef",
   "metadata": {},
   "outputs": [
    {
     "data": {
      "text/html": [
       "<div>\n",
       "<style scoped>\n",
       "    .dataframe tbody tr th:only-of-type {\n",
       "        vertical-align: middle;\n",
       "    }\n",
       "\n",
       "    .dataframe tbody tr th {\n",
       "        vertical-align: top;\n",
       "    }\n",
       "\n",
       "    .dataframe thead th {\n",
       "        text-align: right;\n",
       "    }\n",
       "</style>\n",
       "<table border=\"1\" class=\"dataframe\">\n",
       "  <thead>\n",
       "    <tr style=\"text-align: right;\">\n",
       "      <th></th>\n",
       "      <th>Unnamed: 0</th>\n",
       "      <th>country</th>\n",
       "      <th>description</th>\n",
       "      <th>designation</th>\n",
       "      <th>points</th>\n",
       "      <th>price</th>\n",
       "      <th>province</th>\n",
       "      <th>region_1</th>\n",
       "      <th>region_2</th>\n",
       "      <th>variety</th>\n",
       "      <th>winery</th>\n",
       "    </tr>\n",
       "  </thead>\n",
       "  <tbody>\n",
       "    <tr>\n",
       "      <th>0</th>\n",
       "      <td>0</td>\n",
       "      <td>US</td>\n",
       "      <td>This tremendous 100% varietal wine hails from ...</td>\n",
       "      <td>Martha's Vineyard</td>\n",
       "      <td>96</td>\n",
       "      <td>235.0</td>\n",
       "      <td>California</td>\n",
       "      <td>Napa Valley</td>\n",
       "      <td>Napa</td>\n",
       "      <td>Cabernet Sauvignon</td>\n",
       "      <td>Heitz</td>\n",
       "    </tr>\n",
       "    <tr>\n",
       "      <th>1</th>\n",
       "      <td>1</td>\n",
       "      <td>Spain</td>\n",
       "      <td>Ripe aromas of fig, blackberry and cassis are ...</td>\n",
       "      <td>Carodorum Selección Especial Reserva</td>\n",
       "      <td>96</td>\n",
       "      <td>110.0</td>\n",
       "      <td>Northern Spain</td>\n",
       "      <td>Toro</td>\n",
       "      <td>NaN</td>\n",
       "      <td>Tinta de Toro</td>\n",
       "      <td>Bodega Carmen Rodríguez</td>\n",
       "    </tr>\n",
       "    <tr>\n",
       "      <th>2</th>\n",
       "      <td>2</td>\n",
       "      <td>US</td>\n",
       "      <td>Mac Watson honors the memory of a wine once ma...</td>\n",
       "      <td>Special Selected Late Harvest</td>\n",
       "      <td>96</td>\n",
       "      <td>90.0</td>\n",
       "      <td>California</td>\n",
       "      <td>Knights Valley</td>\n",
       "      <td>Sonoma</td>\n",
       "      <td>Sauvignon Blanc</td>\n",
       "      <td>Macauley</td>\n",
       "    </tr>\n",
       "    <tr>\n",
       "      <th>3</th>\n",
       "      <td>3</td>\n",
       "      <td>US</td>\n",
       "      <td>This spent 20 months in 30% new French oak, an...</td>\n",
       "      <td>Reserve</td>\n",
       "      <td>96</td>\n",
       "      <td>65.0</td>\n",
       "      <td>Oregon</td>\n",
       "      <td>Willamette Valley</td>\n",
       "      <td>Willamette Valley</td>\n",
       "      <td>Pinot Noir</td>\n",
       "      <td>Ponzi</td>\n",
       "    </tr>\n",
       "    <tr>\n",
       "      <th>4</th>\n",
       "      <td>4</td>\n",
       "      <td>France</td>\n",
       "      <td>This is the top wine from La Bégude, named aft...</td>\n",
       "      <td>La Brûlade</td>\n",
       "      <td>95</td>\n",
       "      <td>66.0</td>\n",
       "      <td>Provence</td>\n",
       "      <td>Bandol</td>\n",
       "      <td>NaN</td>\n",
       "      <td>Provence red blend</td>\n",
       "      <td>Domaine de la Bégude</td>\n",
       "    </tr>\n",
       "  </tbody>\n",
       "</table>\n",
       "</div>"
      ],
      "text/plain": [
       "   Unnamed: 0 country                                        description  \\\n",
       "0           0      US  This tremendous 100% varietal wine hails from ...   \n",
       "1           1   Spain  Ripe aromas of fig, blackberry and cassis are ...   \n",
       "2           2      US  Mac Watson honors the memory of a wine once ma...   \n",
       "3           3      US  This spent 20 months in 30% new French oak, an...   \n",
       "4           4  France  This is the top wine from La Bégude, named aft...   \n",
       "\n",
       "                            designation  points  price        province  \\\n",
       "0                     Martha's Vineyard      96  235.0      California   \n",
       "1  Carodorum Selección Especial Reserva      96  110.0  Northern Spain   \n",
       "2         Special Selected Late Harvest      96   90.0      California   \n",
       "3                               Reserve      96   65.0          Oregon   \n",
       "4                            La Brûlade      95   66.0        Provence   \n",
       "\n",
       "            region_1           region_2             variety  \\\n",
       "0        Napa Valley               Napa  Cabernet Sauvignon   \n",
       "1               Toro                NaN       Tinta de Toro   \n",
       "2     Knights Valley             Sonoma     Sauvignon Blanc   \n",
       "3  Willamette Valley  Willamette Valley          Pinot Noir   \n",
       "4             Bandol                NaN  Provence red blend   \n",
       "\n",
       "                    winery  \n",
       "0                    Heitz  \n",
       "1  Bodega Carmen Rodríguez  \n",
       "2                 Macauley  \n",
       "3                    Ponzi  \n",
       "4     Domaine de la Bégude  "
      ]
     },
     "execution_count": 1,
     "metadata": {},
     "output_type": "execute_result"
    }
   ],
   "source": [
    "import pandas as pd\n",
    "import numpy as np\n",
    "\n",
    "data_path = 'E:/桌面/dataMining/second/winemag-data_first150k.csv'\n",
    "data = pd.read_csv(data_path)\n",
    "data.shape\n",
    "data.head()"
   ]
  },
  {
   "cell_type": "code",
   "execution_count": 7,
   "id": "de184434",
   "metadata": {},
   "outputs": [
    {
     "name": "stdout",
     "output_type": "stream",
     "text": [
      "<class 'pandas.core.frame.DataFrame'>\n",
      "Int64Index: 39241 entries, 0 to 150916\n",
      "Data columns (total 11 columns):\n",
      " #   Column       Non-Null Count  Dtype  \n",
      "---  ------       --------------  -----  \n",
      " 0   Unnamed: 0   39241 non-null  int64  \n",
      " 1   country      39241 non-null  object \n",
      " 2   description  39241 non-null  object \n",
      " 3   designation  39241 non-null  object \n",
      " 4   points       39241 non-null  int64  \n",
      " 5   price        39241 non-null  float64\n",
      " 6   province     39241 non-null  object \n",
      " 7   region_1     39241 non-null  object \n",
      " 8   region_2     39241 non-null  object \n",
      " 9   variety      39241 non-null  object \n",
      " 10  winery       39241 non-null  object \n",
      "dtypes: float64(1), int64(2), object(8)\n",
      "memory usage: 4.8+ MB\n"
     ]
    }
   ],
   "source": [
    "data.info()"
   ]
  },
  {
   "cell_type": "code",
   "execution_count": 6,
   "id": "1f2796ef",
   "metadata": {},
   "outputs": [
    {
     "name": "stdout",
     "output_type": "stream",
     "text": [
      "Series([], dtype: int64)\n",
      "[96, 65.0, 'Oregon', 'Pinot Noir']\n"
     ]
    }
   ],
   "source": [
    "#对空值数据进行处理\n",
    "print(data.isnull().sum()[data.isnull().sum()!=0]) #经过统计没有空值数据"
   ]
  },
  {
   "cell_type": "markdown",
   "id": "0109429d",
   "metadata": {},
   "source": [
    "##  一.对数据集进行处理，转换成适合进行关联规则挖掘的形式"
   ]
  },
  {
   "cell_type": "markdown",
   "id": "09b2d5ee",
   "metadata": {},
   "source": [
    "### 1.1 概述\n",
    "我们只保留红酒的分数，地区，分数，葡萄品种四个属性，作为挖掘关联规则的属性。"
   ]
  },
  {
   "cell_type": "markdown",
   "id": "66f8d4ed",
   "metadata": {},
   "source": [
    "### 1.2 实现方法"
   ]
  },
  {
   "cell_type": "code",
   "execution_count": null,
   "id": "e88433bd",
   "metadata": {},
   "outputs": [],
   "source": [
    "语言：python\n",
    "结果：TXT\n",
    "依赖包：pandas， numpy"
   ]
  },
  {
   "cell_type": "markdown",
   "id": "40f058e1",
   "metadata": {},
   "source": [
    "### 1.3 具体实现"
   ]
  },
  {
   "cell_type": "code",
   "execution_count": 46,
   "id": "922eedc9",
   "metadata": {},
   "outputs": [
    {
     "name": "stdout",
     "output_type": "stream",
     "text": [
      "[96, 65.0, 'Oregon', 'Pinot Noir']\n"
     ]
    }
   ],
   "source": [
    "# 对数据进行处理\n",
    "normData = data.drop([\"Unnamed: 0\",\"description\",\"designation\",\"country\",\"region_1\",\"region_2\",\"winery\"], axis = 1)\n",
    "normData1 = normData.drop(normData[normData[\"variety\"] != \"Pinot Noir\"].index)\n",
    "normData2 = normData.drop(normData[normData[\"variety\"] != \"Chardonnay\"].index)\n",
    "normData3 = normData.drop(normData[normData[\"variety\"] != \"Cabernet Sauvignon\"].index)\n",
    "normData4 = normData.drop(normData[normData[\"variety\"] != \"Red Blend\"].index)\n",
    "normData = pd.concat([normData1,normData2,normData3,normData4])\n",
    "normData.to_csv(\"normData.csv\",index=False,sep=',')\n",
    "wineList = normData.values.tolist()\n",
    "\n",
    "print(wineList[0])"
   ]
  },
  {
   "cell_type": "markdown",
   "id": "56add670",
   "metadata": {},
   "source": [
    "我们将前几个样本打印出来为例，第一个属性是红酒的分数，第二个属性是红酒的价格，第三个属性是红酒所在的地区，第四个属性代表酿红酒的葡萄品类。"
   ]
  },
  {
   "cell_type": "code",
   "execution_count": 47,
   "id": "e07f3368",
   "metadata": {},
   "outputs": [
    {
     "name": "stdout",
     "output_type": "stream",
     "text": [
      "points的五数概括： {'Min': 80, 'Q1': 87.0, 'Median': 89.0, 'Q3': 92.0, 'Max': 100}\n",
      "price的五数概括： {'Min': 4.0, 'Q1': 26.0, 'Median': 40.0, 'Q3': 52.0, 'Max': 2013.0}\n",
      "['points_3', 'price_3', 'Oregon', 'Pinot Noir']\n"
     ]
    }
   ],
   "source": [
    "#五数概括\n",
    "def checkFiveNumbers(data, attr):\n",
    "    fiveNumbers = {}\n",
    "    fiveNumbers[\"Min\"] = data[attr].min()\n",
    "    fiveNumbers[\"Q1\"] = data[attr].quantile(q=0.25)\n",
    "    fiveNumbers[\"Median\"] = data[attr].median()\n",
    "    fiveNumbers[\"Q3\"] = data[attr].quantile(q=0.75)\n",
    "    fiveNumbers[\"Max\"] = data[attr].max()\n",
    "    return fiveNumbers\n",
    "\n",
    "#将数据按五数概括分类\n",
    "def replaceFiveNumbers(wineList, fiveNumbers, index, category):\n",
    "    for i in range(len(wineList)):\n",
    "        temp = wineList[i][index]\n",
    "        wineList[i][index] = category + '_4'\n",
    "        if temp > fiveNumbers['Q1']:\n",
    "            wineList[i][index] = category + '_3'\n",
    "        elif temp > fiveNumbers['Median']:\n",
    "            wineList[i][index] = category + '_2'\n",
    "        elif  temp > fiveNumbers['Q3']:\n",
    "            wineList[i][index] = category + '_1'\n",
    "    return wineList\n",
    "\n",
    "points5Numbers = checkFiveNumbers(normData, \"points\")\n",
    "price5Numbers = checkFiveNumbers(normData, \"price\")\n",
    "print(\"points的五数概括：\", points5Numbers)\n",
    "print(\"price的五数概括：\", price5Numbers)\n",
    "wineList = replaceFiveNumbers(wineList, points5Numbers, 0 , 'points')\n",
    "wineList = replaceFiveNumbers(wineList, price5Numbers, 1 , 'price')\n",
    "print(wineList[0])"
   ]
  },
  {
   "cell_type": "markdown",
   "id": "199570e7",
   "metadata": {},
   "source": [
    "具体而言，我们将红酒的价格和分数通过五数概括，替换为红酒列表的值,举例来说，我们比分数_Q1小的赋予price_4,以五数为标准，更新列表数据。最后将数据变为['points_3', 'price_3', 'Oregon', 'Pinot Noir']的格式"
   ]
  },
  {
   "cell_type": "markdown",
   "id": "c6b07bfd",
   "metadata": {},
   "source": [
    "##  二.找出频繁模式"
   ]
  },
  {
   "cell_type": "markdown",
   "id": "fb06b79c",
   "metadata": {},
   "source": [
    "### 1.1 概述\n",
    "我们用红酒的分数，地区，分数，葡萄品种四个属性，挖掘频繁模式。导出关联规则，计算其支持度和置信度。对规则进行评价，使用Lift、卡方。"
   ]
  },
  {
   "cell_type": "markdown",
   "id": "fbe54552",
   "metadata": {},
   "source": [
    "### 1.2 实现方法"
   ]
  },
  {
   "cell_type": "code",
   "execution_count": null,
   "id": "81e4232d",
   "metadata": {},
   "outputs": [],
   "source": [
    "语言：python\n",
    "结果：TXT\n",
    "依赖包：pandas， mlxtend"
   ]
  },
  {
   "cell_type": "markdown",
   "id": "fe6c6c67",
   "metadata": {},
   "source": [
    "### 1.3 具体实现"
   ]
  },
  {
   "cell_type": "code",
   "execution_count": 49,
   "id": "db41b606",
   "metadata": {},
   "outputs": [
    {
     "name": "stdout",
     "output_type": "stream",
     "text": [
      "\n",
      "\n",
      "   Cabernet Sauvignon  California  Chardonnay  New York  Oregon  Pinot Noir  \\\n",
      "0               False       False       False     False    True        True   \n",
      "1               False       False       False     False    True        True   \n",
      "2               False        True       False     False   False        True   \n",
      "3               False       False       False     False    True        True   \n",
      "4               False       False       False     False    True        True   \n",
      "\n",
      "   Red Blend  Washington  points_3  points_4  price_3  price_4  \n",
      "0      False       False      True     False     True    False  \n",
      "1      False       False      True     False     True    False  \n",
      "2      False       False      True     False     True    False  \n",
      "3      False       False      True     False     True    False  \n",
      "4      False       False      True     False     True    False  \n"
     ]
    }
   ],
   "source": [
    "from mlxtend.preprocessing import TransactionEncoder\n",
    "trans_encoder = TransactionEncoder() \n",
    "trans_encoder_matrix = trans_encoder.fit(wineList).transform(wineList)\n",
    "trans_encoder_matrix = pd.DataFrame(trans_encoder_matrix, columns = trans_encoder.columns_)\n",
    "print(\"\\n\")\n",
    "print(trans_encoder_matrix.head())"
   ]
  },
  {
   "cell_type": "markdown",
   "id": "621008e7",
   "metadata": {},
   "source": [
    "我们通过 mlxtend.preprocessin的TransactionEncoder包，找出了数据的频繁关系。"
   ]
  },
  {
   "cell_type": "code",
   "execution_count": 54,
   "id": "190686fb",
   "metadata": {},
   "outputs": [
    {
     "name": "stdout",
     "output_type": "stream",
     "text": [
      "执行apriori算法，结果已保存至frequent_itemset_apriori.csv\n"
     ]
    },
    {
     "data": {
      "image/png": "[encoded data removed]",
      "text/plain": [
       "<Figure size 432x288 with 1 Axes>"
      ]
     },
     "metadata": {
      "needs_background": "light"
     },
     "output_type": "display_data"
    },
    {
     "name": "stdout",
     "output_type": "stream",
     "text": [
      "执行fpgrowth算法，结果已保存至frequent_itemset_fpgrowth.csv\n"
     ]
    },
    {
     "data": {
      "image/png": "[encoded data removed]",
      "text/plain": [
       "<Figure size 432x288 with 1 Axes>"
      ]
     },
     "metadata": {
      "needs_background": "light"
     },
     "output_type": "display_data"
    }
   ],
   "source": [
    "import time\n",
    "import matplotlib.pyplot as plt\n",
    "from mlxtend.frequent_patterns import apriori, association_rules, fpgrowth\n",
    "\n",
    "def plot_metrics_relationship(rule_matrix, col1, col2):\n",
    "    fit = np.polyfit(rule_matrix[col1], rule_matrix[col2], 1)\n",
    "    fit_funt = np.poly1d(fit)\n",
    "    plt.plot(rule_matrix[col1], rule_matrix[col2], 'yo', rule_matrix[col1], \n",
    "    fit_funt(rule_matrix[col1]))\n",
    "    plt.xlabel(col1)\n",
    "    plt.ylabel(col2)\n",
    "    plt.title('{} vs {}'.format(col1, col2))\n",
    "    plt.show()\n",
    "\n",
    "def generateFrequentItemsets(transact_items_matrix, rule_type, min_support):\n",
    "    start_time = 0\n",
    "    total_time = 0\n",
    "    if rule_type == \"apriori\":\n",
    "        frequent_itemsets=apriori(trans_encoder_matrix, min_support, use_colnames=True)\n",
    "        total_time = time.time() - start_time\n",
    "    elif rule_type == \"fpgrowth\":\n",
    "        frequent_itemsets=fpgrowth(trans_encoder_matrix, min_support, use_colnames=True)\n",
    "        total_time = time.time() - start_time\n",
    "    frequent_itemsets['length'] = frequent_itemsets['itemsets'].apply(lambda x: len(x))\n",
    "    frequent_itemsets.to_csv('frequent_itemset_{}.csv'.format(rule_type))\n",
    "    print(\"执行{}算法，结果已保存至frequent_itemset_{}.csv\".format(rule_type, rule_type))\n",
    "    return frequent_itemsets, total_time\n",
    "\n",
    "# Apriori算法\n",
    "itemsets_apriori, time_apriori = generateFrequentItemsets(trans_encoder_matrix, \"apriori\", min_support=0.1)\n",
    "apriori_rules_lift = association_rules(itemsets_apriori, metric=\"lift\", min_threshold=1)\n",
    "apriori_rules_lift = apriori_rules_lift.sort_values(by='lift', ascending=False)\n",
    "apriori_rules_lift.to_csv(\"apriori_rules_lift.csv\")\n",
    "apriori_rules_confidence = association_rules(itemsets_apriori, metric=\"confidence\", min_threshold=0.2)\n",
    "apriori_rules_confidence = apriori_rules_confidence.sort_values(by='confidence', ascending=False)\n",
    "apriori_rules_confidence.to_csv(\"apriori_rules_confidence.csv\")\n",
    "plot_metrics_relationship(apriori_rules_lift, col1='lift', col2='confidence')\n",
    "\n",
    "# Fp Growth算法\n",
    "itemsets_fpgrowth, time_fpgrowth =  generateFrequentItemsets(trans_encoder_matrix, \"fpgrowth\", min_support=0.1)\n",
    "fpgrowth_rules_lift = association_rules(itemsets_fpgrowth, metric=\"lift\", min_threshold=1)\n",
    "fpgrowth_rules_lift = fpgrowth_rules_lift.sort_values(by='lift', ascending=False)\n",
    "fpgrowth_rules_lift.to_csv(\"fpgrowth_rules_lift.csv\")\n",
    "fpgrowth_rules_confidence = association_rules(itemsets_fpgrowth, metric=\"confidence\", min_threshold=0.2)\n",
    "fpgrowth_rules_confidence = fpgrowth_rules_confidence.sort_values(by='confidence', ascending=False)\n",
    "fpgrowth_rules_confidence.to_csv(\"fpgrowth_rules_confidence.csv\")\n",
    "plot_metrics_relationship(fpgrowth_rules_lift, col1='lift', col2='confidence')"
   ]
  },
  {
   "cell_type": "markdown",
   "id": "f6f2d540",
   "metadata": {},
   "source": [
    "图片为两种关联算法的Lift评价，数据的支持度置信度导出为csv文件。"
   ]
  }
 ],
 "metadata": {
  "kernelspec": {
   "display_name": "Python 3",
   "language": "python",
   "name": "python3"
  },
  "language_info": {
   "codemirror_mode": {
    "name": "ipython",
    "version": 3
   },
   "file_extension": ".py",
   "mimetype": "text/x-python",
   "name": "python",
   "nbconvert_exporter": "python",
   "pygments_lexer": "ipython3",
   "version": "3.6.13"
  }
 },
 "nbformat": 4,
 "nbformat_minor": 5
}
